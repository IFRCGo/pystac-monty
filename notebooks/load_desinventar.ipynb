{
 "cells": [
  {
   "cell_type": "markdown",
   "metadata": {},
   "source": [
    "# DesInventar Colombia Data with pystac-monty\n",
    "\n",
    "This notebook demonstrates how to use pystac-monty to process DesInventar Colombia disaster data and visualize it using interactive maps. We'll:\n",
    "\n",
    "1. Download the DesInventar Colombia dataset\n",
    "2. Convert the data to STAC items using pystac-monty\n",
    "3. Display events on an interactive map\n",
    "4. Allow selection of events to view related impacts\n",
    "5. Explore the Monty STAC model and its metadata\n",
    "\n",
    "Let's begin by importing the necessary libraries."
   ]
  },
  {
   "cell_type": "code",
   "execution_count": 1,
   "metadata": {},
   "outputs": [],
   "source": [
    "# Basic libraries\n",
    "import tempfile\n",
    "\n",
    "# Visualization libraries\n",
    "import folium\n",
    "import ipywidgets as widgets\n",
    "import matplotlib.pyplot as plt\n",
    "import pandas as pd\n",
    "import requests\n",
    "\n",
    "# STAC and pystac-monty\n",
    "import shapely\n",
    "from folium.plugins import MarkerCluster\n",
    "from IPython.display import clear_output, display\n",
    "\n",
    "from pystac_monty.extension import MontyExtension\n",
    "from pystac_monty.geocoding import WorldAdministrativeBoundariesGeocoder\n",
    "from pystac_monty.sources.desinventar import DesinventarDataSource, DesinventarTransformer"
   ]
  },
  {
   "cell_type": "markdown",
   "metadata": {},
   "source": [
    "## 1. Download and Process DesInventar Colombia Data\n",
    "\n",
    "First, let's download the DesInventar Colombia dataset and initialize the data source and transformer."
   ]
  },
  {
   "cell_type": "code",
   "execution_count": 2,
   "metadata": {},
   "outputs": [
    {
     "name": "stdout",
     "output_type": "stream",
     "text": [
      "Downloading DesInventar Colombia dataset from https://www.desinventar.net/DesInventar/download/DI_export_col.zip...\n",
      "Downloaded 15.77 MB\n"
     ]
    }
   ],
   "source": [
    "# Define DesInventar Colombia dataset URL\n",
    "colombia_url = \"https://www.desinventar.net/DesInventar/download/DI_export_col.zip\"\n",
    "country_code = \"col\"\n",
    "iso3 = \"COL\"\n",
    "\n",
    "# Download the dataset\n",
    "print(f\"Downloading DesInventar Colombia dataset from {colombia_url}...\")\n",
    "response = requests.get(colombia_url)\n",
    "tmp_zip_file = tempfile.NamedTemporaryFile(suffix=\".zip\", delete=False)\n",
    "tmp_zip_file.write(response.content)\n",
    "print(f\"Downloaded {len(response.content) / (1024*1024):.2f} MB\")\n",
    "\n",
    "# Initialize the data source and transformer\n",
    "data_source = DesinventarDataSource(tmp_zip_file, country_code, iso3, colombia_url)\n",
    "transformer = DesinventarTransformer(data_source)\n",
    "\n",
    "# Initialize the geocoder\n",
    "geocoder = WorldAdministrativeBoundariesGeocoder(\"../tests/data-files/world-administrative-boundaries.fgb\")"
   ]
  },
  {
   "cell_type": "markdown",
   "metadata": {},
   "source": [
    "## 2. Create STAC Items from DesInventar Data\n",
    "\n",
    "Now, let's transform the DesInventar data into STAC items."
   ]
  },
  {
   "cell_type": "code",
   "execution_count": 3,
   "metadata": {},
   "outputs": [
    {
     "name": "stdout",
     "output_type": "stream",
     "text": [
      "Creating STAC items from DesInventar Colombia data...\n",
      "\n",
      "NOTE: Removed 28684 duplicate items\n",
      "\n",
      "NOTE: cannot map events for:\n",
      " {}\n",
      "Created 95694 STAC items\n"
     ]
    }
   ],
   "source": [
    "# Create STAC items\n",
    "print(\"Creating STAC items from DesInventar Colombia data...\")\n",
    "all_stac_items = transformer.get_items()\n",
    "print(f\"Created {len(all_stac_items)} STAC items\")"
   ]
  },
  {
   "cell_type": "code",
   "execution_count": 4,
   "metadata": {},
   "outputs": [
    {
     "name": "stdout",
     "output_type": "stream",
     "text": [
      "Events: 38997, Impacts: 56697\n"
     ]
    }
   ],
   "source": [
    "# Separate the STAC items by role\n",
    "event_items = []\n",
    "impact_items = []\n",
    "\n",
    "for item in all_stac_items:\n",
    "    roles = item.properties.get(\"roles\", [])\n",
    "    if \"event\" in roles:\n",
    "        event_items.append(item)\n",
    "    elif \"impact\" in roles:\n",
    "        impact_items.append(item)\n",
    "\n",
    "print(f\"Events: {len(event_items)}, Impacts: {len(impact_items)}\")"
   ]
  },
  {
   "cell_type": "code",
   "execution_count": 27,
   "metadata": {},
   "outputs": [
    {
     "name": "stdout",
     "output_type": "stream",
     "text": [
      "The autoreload extension is already loaded. To reload it, use:\n",
      "  %reload_ext autoreload\n",
      "STAC API is available at https://montandon-eoapi-stage.ifrc.org/stac\n"
     ]
    }
   ],
   "source": [
    "# Import STAC helper functions\n",
    "%load_ext autoreload\n",
    "%autoreload 2\n",
    "import sys\n",
    "sys.path.append('.')\n",
    "from stac_helpers import (\n",
    "    add_items_to_collection,\n",
    "    check_collection_exists,\n",
    "    check_stac_api_availability,\n",
    "    create_collection_fallback,\n",
    "    create_collection_from_file,\n",
    "    delete_collection,\n",
    ")\n",
    "\n",
    "# Define the STAC API endpoint\n",
    "# Replace with your actual STAC API endpoint\n",
    "stac_api_url = \"https://montandon-eoapi-stage.ifrc.org/stac\"\n",
    "\n",
    "# Define the collection IDs for each type of item\n",
    "# These match the predefined collections in monty-stac-extension/examples\n",
    "event_collection_id = \"desinventar-events\"\n",
    "impact_collection_id = \"desinventar-impacts\"\n",
    "\n",
    "# Define paths to the predefined collection definitions\n",
    "event_collection_path = \"../monty-stac-extension/examples/desinventar-events/desinventar-events.json\"\n",
    "impact_collection_path = \"../monty-stac-extension/examples/desinventar-impacts/desinventar-impacts.json\"\n",
    "\n",
    "# Check if the STAC API is available\n",
    "api_available = check_stac_api_availability(stac_api_url)"
   ]
  },
  {
   "cell_type": "code",
   "execution_count": 28,
   "metadata": {},
   "outputs": [
    {
     "name": "stdout",
     "output_type": "stream",
     "text": [
      "Collection 'desinventar-events' exists in the STAC API\n",
      "Collection 'desinventar-events' deleted successfully\n",
      "Collection 'desinventar-events' does not exist in the STAC API\n",
      "\n",
      "Attempting to create collection 'desinventar-events'...\n",
      "Collection 'desinventar-events' created successfully\n",
      "Collection 'desinventar-impacts' exists in the STAC API\n",
      "Collection 'desinventar-impacts' deleted successfully\n",
      "Collection 'desinventar-impacts' does not exist in the STAC API\n",
      "\n",
      "Attempting to create collection 'desinventar-impacts'...\n",
      "Collection 'desinventar-impacts' created successfully\n"
     ]
    }
   ],
   "source": [
    "# Check if the collections exist and create them if they don't\n",
    "if api_available:\n",
    "    # Check and create event collection if needed\n",
    "    delete_collection(stac_api_url, event_collection_id)\n",
    "    event_collection_exists = check_collection_exists(stac_api_url, event_collection_id)\n",
    "    if not event_collection_exists:\n",
    "        print(f\"\\nAttempting to create collection '{event_collection_id}'...\")\n",
    "        event_collection_created = create_collection_from_file(stac_api_url, event_collection_path)\n",
    "        if not event_collection_created:\n",
    "            print(\"Trying fallback method to create event collection...\")\n",
    "            event_collection_created = create_collection_fallback(\n",
    "                stac_api_url, \n",
    "                event_collection_id, \n",
    "                \"USGS Earthquake events processed with pystac-monty\",\n",
    "                [\"event\", \"source\"]\n",
    "            )\n",
    "        event_collection_exists = event_collection_created\n",
    "    \n",
    "    # Check and create impact collection if needed\n",
    "    delete_collection(stac_api_url, impact_collection_id)\n",
    "    impact_collection_exists = check_collection_exists(stac_api_url, impact_collection_id)\n",
    "    if not impact_collection_exists:\n",
    "        print(f\"\\nAttempting to create collection '{impact_collection_id}'...\")\n",
    "        impact_collection_created = create_collection_from_file(stac_api_url, impact_collection_path)\n",
    "        if not impact_collection_created:\n",
    "            print(\"Trying fallback method to create impact collection...\")\n",
    "            impact_collection_created = create_collection_fallback(\n",
    "                stac_api_url, \n",
    "                impact_collection_id, \n",
    "                \"USGS Earthquake impacts processed with pystac-monty\",\n",
    "                [\"impact\", \"source\"]\n",
    "            )\n",
    "        impact_collection_exists = impact_collection_created\n",
    "    \n",
    "    if not (event_collection_exists and impact_collection_exists):\n",
    "        print(\"\\nWarning: One or more collections could not be created in the STAC API.\")\n",
    "        print(\"Some items may not be added to the STAC API.\")\n",
    "else:\n",
    "    print(\"STAC API is not available. Skipping collection checks and creation.\")"
   ]
  },
  {
   "cell_type": "code",
   "execution_count": null,
   "metadata": {},
   "outputs": [
    {
     "name": "stdout",
     "output_type": "stream",
     "text": [
      "Adding event items to the collection...\n",
      "Processing batch 1 of 39 (1000 items)\n",
      "Processing batch 2 of 39 (1000 items)\n",
      "Processing batch 3 of 39 (1000 items)\n",
      "Processing batch 4 of 39 (1000 items)\n",
      "Failed to add item desinventar-event-COL-DGR-2008-00425. Status code: 424\n",
      "Response: {\"code\":\"DatabaseError\",\"description\":\"\"}\n",
      "Processing batch 5 of 39 (1000 items)\n",
      "Failed to add item desinventar-event-COL-DGR-2008-01229. Status code: 424\n",
      "Response: {\"code\":\"DatabaseError\",\"description\":\"\"}\n",
      "Failed to add item desinventar-event-COL-DGR-2008-01296. Status code: 424\n",
      "Response: {\"code\":\"DatabaseError\",\"description\":\"\"}\n",
      "Failed to add item desinventar-event-COL-DGR-2008-01569. Status code: 424\n",
      "Response: {\"code\":\"DatabaseError\",\"description\":\"\"}\n",
      "Failed to add item desinventar-event-COL-DGR-2009-00182. Status code: 424\n",
      "Response: {\"code\":\"DatabaseError\",\"description\":\"\"}\n",
      "Processing batch 6 of 39 (1000 items)\n",
      "Failed to add item desinventar-event-COL-DGR-2009-00677. Status code: 424\n",
      "Response: {\"code\":\"DatabaseError\",\"description\":\"\"}\n",
      "Failed to add item desinventar-event-COL-DGR-2010-00070. Status code: 424\n",
      "Response: {\"code\":\"DatabaseError\",\"description\":\"\"}\n",
      "Processing batch 7 of 39 (1000 items)\n",
      "Failed to add item desinventar-event-COL-DGR-2010-00845. Status code: 424\n",
      "Response: {\"code\":\"DatabaseError\",\"description\":\"\"}\n",
      "Failed to add item desinventar-event-COL-DGR-2010-01091. Status code: 424\n",
      "Response: {\"code\":\"DatabaseError\",\"description\":\"\"}\n",
      "Processing batch 8 of 39 (1000 items)\n",
      "Failed to add item desinventar-event-COL-DGR-2010-01864. Status code: 424\n",
      "Response: {\"code\":\"DatabaseError\",\"description\":\"\"}\n",
      "Processing batch 9 of 39 (1000 items)\n",
      "Failed to add item desinventar-event-COL-DGR-2011-00468. Status code: 424\n",
      "Response: {\"code\":\"DatabaseError\",\"description\":\"\"}\n",
      "Failed to add item desinventar-event-COL-DGR-2011-01066. Status code: 424\n",
      "Response: {\"code\":\"DatabaseError\",\"description\":\"\"}\n",
      "Processing batch 10 of 39 (1000 items)\n",
      "Processing batch 11 of 39 (1000 items)\n",
      "Processing batch 12 of 39 (1000 items)\n",
      "Processing batch 13 of 39 (1000 items)\n",
      "Failed to add item desinventar-event-COL-UNGRD-01912. Status code: 424\n",
      "Response: {\"code\":\"DatabaseError\",\"description\":\"\"}\n",
      "Processing batch 14 of 39 (1000 items)\n",
      "Failed to add item desinventar-event-COL-UNGRD-03308. Status code: 424\n",
      "Response: {\"code\":\"DatabaseError\",\"description\":\"\"}\n",
      "Failed to add item desinventar-event-COL-UNGRD-03604. Status code: 424\n",
      "Response: {\"code\":\"DatabaseError\",\"description\":\"\"}\n",
      "Failed to add item desinventar-event-COL-UNGRD-03605. Status code: 424\n",
      "Response: {\"code\":\"DatabaseError\",\"description\":\"\"}\n"
     ]
    }
   ],
   "source": [
    "# Add the items to their respective collections if the API is available\n",
    "if api_available:\n",
    "    if event_collection_exists:\n",
    "        print(\"Adding event items to the collection...\")\n",
    "        event_success, event_failed = add_items_to_collection(stac_api_url, event_collection_id, event_items, overwrite=True)\n",
    "    else:\n",
    "        print(\"Skipping adding event items because the collection doesn't exist\")\n",
    "        event_success, event_failed = 0, len(event_items)\n",
    "    \n",
    "    if impact_collection_exists:\n",
    "        print(\"\\nAdding impact items to the collection...\")\n",
    "        impact_success, impact_failed = add_items_to_collection(stac_api_url, impact_collection_id, impact_items)\n",
    "    else:\n",
    "        print(\"Skipping adding impact items because the collection doesn't exist\")\n",
    "        impact_success, impact_failed = 0, len(impact_items)\n",
    "    \n",
    "    total_success = event_success + impact_success\n",
    "    total_failed = event_failed + impact_failed\n",
    "    \n",
    "    print(f\"\\nSummary: Added {total_success} items successfully, {total_failed} items failed\")\n",
    "else:\n",
    "    print(\"Skipping adding items to collections because the API is not available\")"
   ]
  }
 ],
 "metadata": {
  "kernelspec": {
   "display_name": ".venv",
   "language": "python",
   "name": "python3"
  },
  "language_info": {
   "codemirror_mode": {
    "name": "ipython",
    "version": 3
   },
   "file_extension": ".py",
   "mimetype": "text/x-python",
   "name": "python",
   "nbconvert_exporter": "python",
   "pygments_lexer": "ipython3",
   "version": "3.10.12"
  }
 },
 "nbformat": 4,
 "nbformat_minor": 4
}
