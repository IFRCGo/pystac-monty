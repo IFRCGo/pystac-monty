{
 "cells": [
  {
   "cell_type": "markdown",
   "metadata": {},
   "source": [
    "# IBTrACS Tropical Cyclone Data with pystac-monty\n",
    "\n",
    "This notebook demonstrates how to use pystac-monty to process IBTrACS (International Best Track Archive for Climate Stewardship) tropical cyclone data and visualize it using interactive maps. We'll:\n",
    "\n",
    "1. Download the IBTrACS tropical cyclone dataset\n",
    "2. Convert the data to STAC items using pystac-monty\n",
    "3. Display events on an interactive map\n",
    "4. Allow selection of events to view related hazards\n",
    "5. Explore the Monty STAC model and its metadata\n",
    "\n",
    "Let's begin by importing the necessary libraries."
   ]
  },
  {
   "cell_type": "code",
   "execution_count": null,
   "metadata": {},
   "outputs": [],
   "source": [
    "# Basic libraries\n",
    "import tempfile\n",
    "from datetime import datetime, timedelta\n",
    "\n",
    "# Visualization libraries\n",
    "import pandas as pd\n",
    "import requests\n",
    "\n",
    "# STAC and pystac-monty\n",
    "import pytz\n",
    "from pystac_monty.extension import MontyExtension\n",
    "from pystac_monty.geocoding import WorldAdministrativeBoundariesGeocoder\n",
    "from pystac_monty.sources.ibtracs import IBTrACSDataSource, IBTrACSTransformer\n",
    "\n",
    "# Import STAC helper functions\n",
    "import sys\n",
    "sys.path.append('.')\n",
    "from stac_helpers import (\n",
    "    check_stac_api_availability,\n",
    "    check_collection_exists,\n",
    "    create_collection_from_file,\n",
    "    create_collection_fallback,\n",
    "    add_items_to_collection,\n",
    "    delete_collection\n",
    ")"
   ]
  },
  {
   "cell_type": "markdown",
   "metadata": {},
   "source": [
    "## 1. Download and Process IBTrACS Data\n",
    "\n",
    "First, let's download the IBTrACS dataset and initialize the data source and transformer."
   ]
  },
  {
   "cell_type": "code",
   "execution_count": null,
   "metadata": {},
   "outputs": [],
   "source": [
    "# Define IBTrACS dataset URL (using the North Atlantic basin as an example)\n",
    "ibtracs_url = \"https://www.ncei.noaa.gov/data/international-best-track-archive-for-climate-stewardship-ibtracs/v04r00/access/csv/ibtracs.NA.list.v04r00.csv\"\n",
    "\n",
    "# Download the dataset\n",
    "print(f\"Downloading IBTrACS dataset from {ibtracs_url}...\")\n",
    "response = requests.get(ibtracs_url)\n",
    "print(f\"Downloaded {len(response.content) / (1024*1024):.2f} MB\")\n",
    "\n",
    "# Initialize the data source and transformer\n",
    "data_source = IBTrACSDataSource(ibtracs_url, response.text)\n",
    "\n",
    "# Initialize the geocoder\n",
    "geocoder = WorldAdministrativeBoundariesGeocoder(\"../tests/data-files/world-administrative-boundaries.fgb\")\n",
    "transformer = IBTrACSTransformer(data_source, geocoder)"
   ]
  },
  {
   "cell_type": "markdown",
   "metadata": {},
   "source": [
    "## 2. Create STAC Items from IBTrACS Data\n",
    "\n",
    "Now, let's transform the IBTrACS data into STAC items."
   ]
  },
  {
   "cell_type": "code",
   "execution_count": null,
   "metadata": {},
   "outputs": [],
   "source": [
    "# Create STAC items\n",
    "print(\"Creating STAC items from IBTrACS data...\")\n",
    "all_stac_items = list(transformer.get_stac_items())\n",
    "print(f\"Created {len(all_stac_items)} STAC items\")"
   ]
  },
  {
   "cell_type": "code",
   "execution_count": null,
   "metadata": {},
   "outputs": [],
   "source": [
    "# Separate the STAC items by role\n",
    "event_items = []\n",
    "hazard_items = []\n",
    "\n",
    "for item in all_stac_items:\n",
    "    # Filter for recent events (e.g., last 5 years)\n",
    "    if item.datetime and item.datetime.year < datetime.now().year - 5:\n",
    "        continue\n",
    "        \n",
    "    roles = item.properties.get(\"roles\", [])\n",
    "    if \"event\" in roles:\n",
    "        event_items.append(item)\n",
    "    elif \"hazard\" in roles:\n",
    "        hazard_items.append(item)\n",
    "\n",
    "print(f\"Events: {len(event_items)}, Hazards: {len(hazard_items)}\")"
   ]
  },
  {
   "cell_type": "markdown",
   "metadata": {},
   "source": [
    "## 3. Loading STAC Items into a STAC API using the Transaction API\n",
    "\n",
    "Now that we have created STAC items from the IBTrACS data, let's load them into a STAC API using the transaction API. The transaction API allows us to create, update, and delete STAC items in a STAC API.\n",
    "\n",
    "We'll use the predefined collections from the monty-stac-extension examples folder:\n",
    "- ibtracs-events: For event items\n",
    "- ibtracs-hazards: For hazard items\n",
    "\n",
    "If these collections don't exist in the STAC API, we'll create them based on the predefined collection definitions."
   ]
  },
  {
   "cell_type": "code",
   "execution_count": null,
   "metadata": {},
   "outputs": [],
   "source": [
    "# Define the STAC API endpoint\n",
    "# Replace with your actual STAC API endpoint\n",
    "stac_api_url = \"https://montandon-eoapi-stage.ifrc.org/stac\"\n",
    "\n",
    "# Define the collection IDs for each type of item\n",
    "# These match the predefined collections in monty-stac-extension/examples\n",
    "event_collection_id = \"ibtracs-events\"\n",
    "hazard_collection_id = \"ibtracs-hazards\"\n",
    "\n",
    "# Define paths to the predefined collection definitions\n",
    "event_collection_path = \"../monty-stac-extension/examples/ibtracs-events/ibtracs-events.json\"\n",
    "hazard_collection_path = \"../monty-stac-extension/examples/ibtracs-hazards/ibtracs-hazards.json\"\n",
    "\n",
    "# Check if the STAC API is available\n",
    "api_available = check_stac_api_availability(stac_api_url)"
   ]
  },
  {
   "cell_type": "code",
   "execution_count": null,
   "metadata": {},
   "outputs": [],
   "source": [
    "# Check if the collections exist and create them if they don't\n",
    "if api_available:\n",
    "    # Check and create event collection if needed\n",
    "    delete_collection(stac_api_url, event_collection_id)\n",
    "    event_collection_exists = check_collection_exists(stac_api_url, event_collection_id)\n",
    "    if not event_collection_exists:\n",
    "        print(f\"\\nAttempting to create collection '{event_collection_id}'...\")\n",
    "        event_collection_created = create_collection_from_file(stac_api_url, event_collection_path)\n",
    "        if not event_collection_created:\n",
    "            print(\"Trying fallback method to create event collection...\")\n",
    "            event_collection_created = create_collection_fallback(\n",
    "                stac_api_url, \n",
    "                event_collection_id, \n",
    "                \"IBTrACS tropical cyclone events processed with pystac-monty\",\n",
    "                [\"event\", \"source\"]\n",
    "            )\n",
    "        event_collection_exists = event_collection_created\n",
    "    \n",
    "    # Check and create hazard collection if needed\n",
    "    delete_collection(stac_api_url, hazard_collection_id)\n",
    "    hazard_collection_exists = check_collection_exists(stac_api_url, hazard_collection_id)\n",
    "    if not hazard_collection_exists:\n",
    "        print(f\"\\nAttempting to create collection '{hazard_collection_id}'...\")\n",
    "        hazard_collection_created = create_collection_from_file(stac_api_url, hazard_collection_path)\n",
    "        if not hazard_collection_created:\n",
    "            print(\"Trying fallback method to create hazard collection...\")\n",
    "            hazard_collection_created = create_collection_fallback(\n",
    "                stac_api_url, \n",
    "                hazard_collection_id, \n",
    "                \"IBTrACS tropical cyclone hazards processed with pystac-monty\",\n",
    "                [\"hazard\", \"source\"]\n",
    "            )\n",
    "        hazard_collection_exists = hazard_collection_created\n",
    "    \n",
    "    if not (event_collection_exists and hazard_collection_exists):\n",
    "        print(\"\\nWarning: One or more collections could not be created in the STAC API.\")\n",
    "        print(\"Some items may not be added to the STAC API.\")\n",
    "else:\n",
    "    print(\"STAC API is not available. Skipping collection checks and creation.\")"
   ]
  },
  {
   "cell_type": "code",
   "execution_count": null,
   "metadata": {},
   "outputs": [],
   "source": [
    "# Add the items to their respective collections if the API is available\n",
    "if api_available:\n",
    "    if event_collection_exists:\n",
    "        print(\"Adding event items to the collection...\")\n",
    "        event_success, event_failed = add_items_to_collection(stac_api_url, event_collection_id, event_items, overwrite=True)\n",
    "    else:\n",
    "        print(\"Skipping adding event items because the collection doesn't exist\")\n",
    "        event_success, event_failed = 0, len(event_items)\n",
    "    \n",
    "    if hazard_collection_exists:\n",
    "        print(\"\\nAdding hazard items to the collection...\")\n",
    "        hazard_success, hazard_failed = add_items_to_collection(stac_api_url, hazard_collection_id, hazard_items, overwrite=True)\n",
    "    else:\n",
    "        print(\"Skipping adding hazard items because the collection doesn't exist\")\n",
    "        hazard_success, hazard_failed = 0, len(hazard_items)\n",
    "    \n",
    "    total_success = event_success + hazard_success\n",
    "    total_failed = event_failed + hazard_failed\n",
    "    \n",
    "    print(f\"\\nSummary: Added {total_success} items successfully, {total_failed} items failed\")\n",
    "else:\n",
    "    print(\"Skipping adding items to collections because the API is not available\")"
   ]
  },
  {
   "cell_type": "markdown",
   "metadata": {},
   "source": [
    "## 4. Analyze IBTrACS Data\n",
    "\n",
    "Let's analyze the IBTrACS data to get a better understanding of the tropical cyclones."
   ]
  },
  {
   "cell_type": "code",
   "execution_count": null,
   "metadata": {},
   "outputs": [],
   "source": [
    "# Extract relevant information from event items into a DataFrame\n",
    "events_df = pd.DataFrame(\n",
    "    [\n",
    "        {\n",
    "            \"id\": item.id,\n",
    "            \"title\": item.properties.get(\"title\", \"\"),\n",
    "            \"start_datetime\": item.properties.get(\"start_datetime\", \"\"),\n",
    "            \"end_datetime\": item.properties.get(\"end_datetime\", \"\"),\n",
    "            \"description\": item.properties.get(\"description\", \"\"),\n",
    "            \"keywords\": \", \".join(item.properties.get(\"keywords\", [])),\n",
    "            \"correlation_id\": MontyExtension.ext(item).correlation_id,\n",
    "            \"country_codes\": \", \".join(MontyExtension.ext(item).country_codes or []),\n",
    "            \"hazard_codes\": \", \".join(MontyExtension.ext(item).hazard_codes or [])\n",
    "        }\n",
    "        for item in event_items\n",
    "    ]\n",
    ")\n",
    "\n",
    "# Sort by start_datetime (descending)\n",
    "events_df = events_df.sort_values(by=\"start_datetime\", ascending=False)\n",
    "\n",
    "# Display the DataFrame\n",
    "events_df.head(10)"
   ]
  },
  {
   "cell_type": "code",
   "execution_count": null,
   "metadata": {},
   "outputs": [],
   "source": [
    "# Extract relevant information from hazard items into a DataFrame\n",
    "hazards_df = pd.DataFrame(\n",
    "    [\n",
    "        {\n",
    "            \"id\": item.id,\n",
    "            \"title\": item.properties.get(\"title\", \"\"),\n",
    "            \"datetime\": item.datetime.isoformat() if item.datetime else \"\",\n",
    "            \"description\": item.properties.get(\"description\", \"\"),\n",
    "            \"correlation_id\": MontyExtension.ext(item).correlation_id,\n",
    "            \"country_codes\": \", \".join(MontyExtension.ext(item).country_codes or []),\n",
    "            \"hazard_codes\": \", \".join(MontyExtension.ext(item).hazard_codes or []),\n",
    "            \"severity_value\": MontyExtension.ext(item).hazard_detail.severity_value if MontyExtension.ext(item).hazard_detail else None,\n",
    "            \"severity_unit\": MontyExtension.ext(item).hazard_detail.severity_unit if MontyExtension.ext(item).hazard_detail else None,\n",
    "            \"pressure\": MontyExtension.ext(item).hazard_detail.pressure if MontyExtension.ext(item).hazard_detail else None,\n",
    "            \"pressure_unit\": MontyExtension.ext(item).hazard_detail.pressure_unit if MontyExtension.ext(item).hazard_detail else None\n",
    "        }\n",
    "        for item in hazard_items\n",
    "    ]\n",
    ")\n",
    "\n",
    "# Sort by datetime (descending)\n",
    "hazards_df = hazards_df.sort_values(by=\"datetime\", ascending=False)\n",
    "\n",
    "# Display the DataFrame\n",
    "hazards_df.head(10)"
   ]
  }
 ],
 "metadata": {
  "kernelspec": {
   "display_name": "Python 3",
   "language": "python",
   "name": "python3"
  },
  "language_info": {
   "codemirror_mode": {
    "name": "ipython",
    "version": 3
   },
   "file_extension": ".py",
   "mimetype": "text/x-python",
   "name": "python",
   "nbconvert_exporter": "python",
   "pygments_lexer": "ipython3",
   "version": "3.10.12"
  }
 },
 "nbformat": 4,
 "nbformat_minor": 4
}
