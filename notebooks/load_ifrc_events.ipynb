{
 "cells": [
  {
   "cell_type": "markdown",
   "metadata": {},
   "source": [
    "# IFRC Events Data with pystac-monty\n",
    "\n",
    "This notebook demonstrates how to use pystac-monty to process IFRC events data \n",
    "\n",
    "Let's begin by importing the necessary libraries."
   ]
  },
  {
   "cell_type": "code",
   "execution_count": null,
   "metadata": {},
   "outputs": [
    {
     "name": "stdout",
     "output_type": "stream",
     "text": [
      "The autoreload extension is already loaded. To reload it, use:\n",
      "  %reload_ext autoreload\n"
     ]
    }
   ],
   "source": [
    "%load_ext autoreload\n",
    "%autoreload 2\n",
    "\n",
    "# Basic libraries\n",
    "import json\n",
    "\n",
    "# Visualization libraries\n",
    "import requests"
   ]
  },
  {
   "cell_type": "markdown",
   "metadata": {},
   "source": [
    "## 3. Add Items to STAC Collections\n",
    "\n",
    "Now, let's add the STAC items to their respective collections in a STAC API."
   ]
  },
  {
   "cell_type": "code",
   "execution_count": 2,
   "metadata": {},
   "outputs": [],
   "source": [
    "# Import STAC helper functions\n",
    "import sys\n",
    "sys.path.append('.')\n",
    "from stac_helpers import (\n",
    "    add_items_to_collection,\n",
    "    check_collection_exists,\n",
    "    check_stac_api_availability,\n",
    "    create_collection_fallback,\n",
    "    create_collection_from_file,\n",
    "    delete_collection,\n",
    ")"
   ]
  },
  {
   "cell_type": "code",
   "execution_count": 4,
   "metadata": {},
   "outputs": [
    {
     "name": "stdout",
     "output_type": "stream",
     "text": [
      "STAC API is available at https://montandon-eoapi-stage.ifrc.org/stac\n"
     ]
    }
   ],
   "source": [
    "# Define the STAC API endpoint\n",
    "# Replace with your actual STAC API endpoint\n",
    "stac_api_url = \"https://montandon-eoapi-stage.ifrc.org/stac\"\n",
    "\n",
    "# Define the collection IDs for each type of item\n",
    "# These match the predefined collections in monty-stac-extension/examples\n",
    "event_collection_id = \"ifrcevent-events\"\n",
    "hazard_collection_id = \"ifrcevent-hazards\"\n",
    "impact_collection_id = \"ifrcevent-impacts\"\n",
    "\n",
    "# Define paths to the predefined collection definitions\n",
    "event_collection_path = \"../monty-stac-extension/examples/ifrcevent-events/ifrcevent-events.json\"\n",
    "hazard_collection_path = \"../monty-stac-extension/examples/ifrcevent-hazards/ifrcevent-hazards.json\"\n",
    "impact_collection_path = \"../monty-stac-extension/examples/ifrcevent-impacts/ifrcevent-impacts.json\"\n",
    "\n",
    "# Check if the STAC API is available\n",
    "api_available = check_stac_api_availability(stac_api_url)"
   ]
  },
  {
   "cell_type": "code",
   "execution_count": null,
   "metadata": {},
   "outputs": [
    {
     "name": "stdout",
     "output_type": "stream",
     "text": [
      "Collection 'gdacs-events' exists in the STAC API\n",
      "Collection 'gdacs-hazards' exists in the STAC API\n",
      "Collection 'gdacs-impacts' exists in the STAC API\n"
     ]
    }
   ],
   "source": [
    "# Check if the collections exist and create them if they don't\n",
    "if api_available:\n",
    "    # Check and create event collection if needed\n",
    "    delete_collection(stac_api_url, event_collection_id)\n",
    "    event_collection_exists = check_collection_exists(stac_api_url, event_collection_id)\n",
    "    if not event_collection_exists:\n",
    "        print(f\"\\nAttempting to create collection '{event_collection_id}'...\")\n",
    "        event_collection_created = create_collection_from_file(stac_api_url, event_collection_path)\n",
    "        if not event_collection_created:\n",
    "            print(\"Trying fallback method to create event collection...\")\n",
    "            event_collection_created = create_collection_fallback(\n",
    "                stac_api_url, event_collection_id, \"IFRC events processed with pystac-monty\", [\"event\", \"source\"]\n",
    "            )\n",
    "        event_collection_exists = event_collection_created\n",
    "\n",
    "    # Check and create hazard collection if needed\n",
    "    delete_collection(stac_api_url, hazard_collection_id)\n",
    "    hazard_collection_exists = check_collection_exists(stac_api_url, hazard_collection_id)\n",
    "    if not hazard_collection_exists:\n",
    "        print(f\"\\nAttempting to create collection '{hazard_collection_id}'...\")\n",
    "        hazard_collection_created = create_collection_from_file(stac_api_url, hazard_collection_path)\n",
    "        if not hazard_collection_created:\n",
    "            print(\"Trying fallback method to create hazard collection...\")\n",
    "            hazard_collection_created = create_collection_fallback(\n",
    "                stac_api_url, hazard_collection_id, \"IFRC hazards processed with pystac-monty\", [\"hazard\", \"source\"]\n",
    "            )\n",
    "        hazard_collection_exists = hazard_collection_created\n",
    "\n",
    "    # Check and create impact collection if needed\n",
    "    delete_collection(stac_api_url, impact_collection_id)\n",
    "    impact_collection_exists = check_collection_exists(stac_api_url, impact_collection_id)\n",
    "    if not impact_collection_exists:\n",
    "        print(f\"\\nAttempting to create collection '{impact_collection_id}'...\")\n",
    "        impact_collection_created = create_collection_from_file(stac_api_url, impact_collection_path)\n",
    "        if not impact_collection_created:\n",
    "            print(\"Trying fallback method to create impact collection...\")\n",
    "            impact_collection_created = create_collection_fallback(\n",
    "                stac_api_url, impact_collection_id, \"IFRC impacts processed with pystac-monty\", [\"impact\", \"source\"]\n",
    "            )\n",
    "        impact_collection_exists = impact_collection_created\n",
    "\n",
    "else:\n",
    "    print(\"STAC API is not available. Skipping collection checks and creation.\")"
   ]
  }
 ],
 "metadata": {
  "kernelspec": {
   "display_name": ".venv",
   "language": "python",
   "name": "python3"
  },
  "language_info": {
   "codemirror_mode": {
    "name": "ipython",
    "version": 3
   },
   "file_extension": ".py",
   "mimetype": "text/x-python",
   "name": "python",
   "nbconvert_exporter": "python",
   "pygments_lexer": "ipython3",
   "version": "3.10.12"
  }
 },
 "nbformat": 4,
 "nbformat_minor": 2
}
