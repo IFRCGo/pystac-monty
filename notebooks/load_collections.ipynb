{
 "cells": [
  {
   "cell_type": "markdown",
   "metadata": {},
   "source": [
    "# Loading Collections from monty-stac-extension Examples\n",
    "\n",
    "This notebook demonstrates how to load all the collections from the monty-stac-extension examples directory into the Montandon API. We'll:\n",
    "\n",
    "1. Scan the monty-stac-extension/examples directory for collection JSON files\n",
    "2. Check if each collection exists in the Montandon API\n",
    "3. Create or update collections as needed\n",
    "4. Provide a summary of the operations performed\n",
    "\n",
    "Let's begin by importing the necessary libraries."
   ]
  },
  {
   "cell_type": "code",
   "execution_count": null,
   "metadata": {},
   "outputs": [],
   "source": [
    "# Basic libraries\n",
    "import os\n",
    "import json\n",
    "import glob\n",
    "from pathlib import Path\n",
    "import requests\n",
    "\n",
    "# STAC and pystac-monty\n",
    "import pystac\n",
    "from pystac_monty.extension import MontyExtension\n",
    "\n",
    "# Import STAC helper functions\n",
    "import sys\n",
    "sys.path.append('.')\n",
    "from stac_helpers import (\n",
    "    check_stac_api_availability,\n",
    "    check_collection_exists,\n",
    "    create_collection_from_file,\n",
    "    create_collection_fallback,\n",
    "    delete_collection\n",
    ")"
   ]
  },
  {
   "cell_type": "markdown",
   "metadata": {},
   "source": [
    "## Define a function to update collections using PUT\n",
    "\n",
    "First, let's define a function to update collections using the PUT method, which is not available in the stac_helpers.py file."
   ]
  },
  {
   "cell_type": "code",
   "execution_count": null,
   "metadata": {},
   "outputs": [],
   "source": [
    "def update_collection_from_file(api_url, collection_path) -> bool:\n",
    "    \"\"\"\n",
    "    Update a collection in the STAC API using a predefined collection definition file and the PUT method\n",
    "    \n",
    "    Parameters:\n",
    "    - api_url: URL of the STAC API\n",
    "    - collection_path: Path to the collection definition file\n",
    "    \n",
    "    Returns:\n",
    "    - Boolean indicating if the collection was updated successfully\n",
    "    \"\"\"\n",
    "    try:\n",
    "        # Check if the collection definition file exists\n",
    "        if not os.path.exists(collection_path):\n",
    "            print(f\"Collection definition file not found: {collection_path}\")\n",
    "            return False\n",
    "        \n",
    "        # Load the collection definition from the file\n",
    "        with open(collection_path, 'r') as f:\n",
    "            collection_dict = json.load(f)\n",
    "        \n",
    "        collection_id = collection_dict.get('id')\n",
    "        if not collection_id:\n",
    "            print(f\"Collection ID not found in {collection_path}\")\n",
    "            return False\n",
    "        \n",
    "        # Update the collection using the transaction API with PUT method\n",
    "        response = requests.put(\n",
    "            f\"{api_url}/collections/{collection_id}\",\n",
    "            json=collection_dict,\n",
    "            headers={\"Content-Type\": \"application/json\"}\n",
    "        )\n",
    "        \n",
    "        if response.status_code in [200, 201, 204]:\n",
    "            print(f\"Collection '{collection_id}' updated successfully\")\n",
    "            return True\n",
    "        else:\n",
    "            print(f\"Failed to update collection '{collection_id}'. Status code: {response.status_code}\")\n",
    "            print(f\"Response: {response.text}\")\n",
    "            return False\n",
    "    except Exception as e:\n",
    "        print(f\"Error updating collection from file: {e}\")\n",
    "        return False"
   ]
  },
  {
   "cell_type": "markdown",
   "metadata": {},
   "source": [
    "## 1. Define the STAC API Endpoint\n",
    "\n",
    "First, let's define the STAC API endpoint where we'll be creating or updating collections."
   ]
  },
  {
   "cell_type": "code",
   "execution_count": null,
   "metadata": {},
   "outputs": [],
   "source": [
    "# Define the STAC API endpoint\n",
    "# Replace with your actual STAC API endpoint\n",
    "stac_api_url = \"https://montandon-eoapi-stage.ifrc.org/stac\"\n",
    "\n",
    "# Check if the STAC API is available\n",
    "api_available = check_stac_api_availability(stac_api_url)\n",
    "\n",
    "if not api_available:\n",
    "    print(\"STAC API is not available. Please check the URL and try again.\")\n",
    "    # Exit the notebook or continue with other operations"
   ]
  },
  {
   "cell_type": "markdown",
   "metadata": {},
   "source": [
    "## 2. Scan for Collection JSON Files\n",
    "\n",
    "Now, let's scan the monty-stac-extension/examples directory for collection JSON files."
   ]
  },
  {
   "cell_type": "code",
   "execution_count": null,
   "metadata": {},
   "outputs": [],
   "source": [
    "# Define the path to the monty-stac-extension examples directory\n",
    "examples_dir = \"../monty-stac-extension/examples\"\n",
    "\n",
    "# Find all collection JSON files (they are named after the directory they're in)\n",
    "collection_files = []\n",
    "for root, dirs, files in os.walk(examples_dir):\n",
    "    for file in files:\n",
    "        if file.endswith(\".json\") and (\"events\" in file or \"hazards\" in file or \"impacts\" in file):\n",
    "            collection_files.append(os.path.join(root, file))\n",
    "\n",
    "print(f\"Found {len(collection_files)} collection JSON files\")"
   ]
  },
  {
   "cell_type": "markdown",
   "metadata": {},
   "source": [
    "## 3. Process Each Collection\n",
    "\n",
    "Now, let's process each collection file and create or update it in the STAC API."
   ]
  },
  {
   "cell_type": "code",
   "execution_count": null,
   "metadata": {},
   "outputs": [],
   "source": [
    "# Function to extract collection ID from file path\n",
    "def get_collection_id_from_path(file_path):\n",
    "    return os.path.basename(file_path).replace(\".json\", \"\")\n",
    "\n",
    "# Process each collection file\n",
    "successful_collections = []\n",
    "failed_collections = []\n",
    "\n",
    "for collection_file in collection_files:\n",
    "    collection_id = get_collection_id_from_path(collection_file)\n",
    "    print(f\"\\nProcessing collection: {collection_id}\")\n",
    "    \n",
    "    # Check if the collection exists\n",
    "    collection_exists = check_collection_exists(stac_api_url, collection_id)\n",
    "    \n",
    "    if collection_exists:\n",
    "        print(f\"Collection '{collection_id}' exists, updating using PUT method...\")\n",
    "        # Update the collection using PUT method\n",
    "        collection_updated = update_collection_from_file(stac_api_url, collection_file)\n",
    "        \n",
    "        if collection_updated:\n",
    "            successful_collections.append(collection_id)\n",
    "            print(f\"Successfully updated collection '{collection_id}'\")\n",
    "        else:\n",
    "            failed_collections.append(collection_id)\n",
    "            print(f\"Failed to update collection '{collection_id}'\")\n",
    "    else:\n",
    "        # Create the collection\n",
    "        print(f\"Collection '{collection_id}' does not exist, creating...\")\n",
    "        collection_created = create_collection_from_file(stac_api_url, collection_file)\n",
    "        \n",
    "        if not collection_created:\n",
    "            print(\"Trying fallback method to create collection...\")\n",
    "            \n",
    "            # Load the collection file to get description and roles\n",
    "            with open(collection_file, 'r') as f:\n",
    "                collection_data = json.load(f)\n",
    "            \n",
    "            description = collection_data.get('description', f\"Collection for {collection_id}\")\n",
    "            roles = collection_data.get('roles', [])\n",
    "            \n",
    "            collection_created = create_collection_fallback(\n",
    "                stac_api_url, \n",
    "                collection_id, \n",
    "                description,\n",
    "                roles\n",
    "            )\n",
    "        \n",
    "        if collection_created:\n",
    "            successful_collections.append(collection_id)\n",
    "            print(f\"Successfully created collection '{collection_id}'\")\n",
    "        else:\n",
    "            failed_collections.append(collection_id)\n",
    "            print(f\"Failed to create collection '{collection_id}'\")\n",
    "\n",
    "# Print summary\n",
    "print(\"\\n--- Summary ---\")\n",
    "print(f\"Successfully processed {len(successful_collections)} collections\")\n",
    "print(f\"Failed to process {len(failed_collections)} collections\")\n",
    "\n",
    "if failed_collections:\n",
    "    print(\"\\nFailed collections:\")\n",
    "    for collection_id in failed_collections:\n",
    "        print(f\"- {collection_id}\")"
   ]
  }
 ],
 "metadata": {
  "kernelspec": {
   "display_name": ".venv",
   "language": "python",
   "name": "python3"
  },
  "language_info": {
   "codemirror_mode": {
    "name": "ipython",
    "version": 3
   },
   "file_extension": ".py",
   "mimetype": "text/x-python",
   "name": "python",
   "nbconvert_exporter": "python",
   "pygments_lexer": "ipython3",
   "version": "3.10.12"
  }
 },
 "nbformat": 4,
 "nbformat_minor": 4
}
